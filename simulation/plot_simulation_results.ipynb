{
 "cells": [
  {
   "cell_type": "code",
   "execution_count": 1,
   "metadata": {
    "application/vnd.databricks.v1+cell": {
     "cellMetadata": {
      "byteLimit": 2048000,
      "rowLimit": 10000
     },
     "inputWidgets": {},
     "nuid": "c142ce5d-2cb3-45ee-aa39-040119603cb8",
     "showTitle": false,
     "tableResultSettingsMap": {},
     "title": ""
    }
   },
   "outputs": [
    {
     "name": "stderr",
     "output_type": "stream",
     "text": [
      "2025-05-20 10:54:27,959 - /home/gok4bh/Projects/causal-HU10/venv_causal-HU10/lib/python3.10/site-packages/castle/backend/__init__.py[line:36] - INFO: You can use `os.environ['CASTLE_BACKEND'] = backend` to set the backend(`pytorch` or `mindspore`).\n",
      "2025-05-20 10:54:28,112 - /home/gok4bh/Projects/causal-HU10/venv_causal-HU10/lib/python3.10/site-packages/castle/algorithms/__init__.py[line:36] - INFO: You are using ``pytorch`` as the backend.\n",
      "/home/gok4bh/Projects/causal-HU10/venv_causal-HU10/lib/python3.10/site-packages/tqdm/auto.py:21: TqdmWarning: IProgress not found. Please update jupyter and ipywidgets. See https://ipywidgets.readthedocs.io/en/stable/user_install.html\n",
      "  from .autonotebook import tqdm as notebook_tqdm\n"
     ]
    }
   ],
   "source": [
    "import matplotlib.pyplot as plt\n",
    "import json\n",
    "from gresit.simulation_utils import draw_result_boxplots\n",
    "from collections import defaultdict\n",
    "import os\n",
    "import re"
   ]
  },
  {
   "cell_type": "code",
   "execution_count": 2,
   "metadata": {
    "application/vnd.databricks.v1+cell": {
     "cellMetadata": {
      "byteLimit": 2048000,
      "rowLimit": 10000
     },
     "inputWidgets": {},
     "nuid": "6ef56636-f298-4b41-85af-a1e5fea01cd3",
     "showTitle": false,
     "tableResultSettingsMap": {},
     "title": ""
    }
   },
   "outputs": [],
   "source": [
    "SMALL_SIZE = 15\n",
    "BIGGER_SIZE = 19\n",
    "\n",
    "plt.rc(\"font\", size=SMALL_SIZE)  # controls default text sizes\n",
    "plt.rc(\"axes\", titlesize=BIGGER_SIZE)  # fontsize of the axes title\n",
    "plt.rc(\"axes\", labelsize=BIGGER_SIZE)  # fontsize of the x and y labels\n",
    "plt.rc(\"xtick\", labelsize=SMALL_SIZE)  # fontsize of the tick labels\n",
    "plt.rc(\"ytick\", labelsize=SMALL_SIZE)  # fontsize of the tick labels\n",
    "plt.rc(\"legend\", fontsize=SMALL_SIZE)  # legend fontsize\n",
    "plt.rc(\"figure\", titlesize=BIGGER_SIZE)"
   ]
  },
  {
   "cell_type": "code",
   "execution_count": 3,
   "metadata": {
    "application/vnd.databricks.v1+cell": {
     "cellMetadata": {
      "byteLimit": 2048000,
      "rowLimit": 10000
     },
     "inputWidgets": {},
     "nuid": "22d316c8-d21a-47b1-a4e6-62c77cd61acb",
     "showTitle": false,
     "tableResultSettingsMap": {},
     "title": ""
    }
   },
   "outputs": [],
   "source": [
    "result_path = \"./\""
   ]
  },
  {
   "cell_type": "code",
   "execution_count": 4,
   "metadata": {},
   "outputs": [],
   "source": [
    "pc_path = \"./PC/\""
   ]
  },
  {
   "cell_type": "code",
   "execution_count": 5,
   "metadata": {},
   "outputs": [],
   "source": [
    "result_files = [f for f in os.listdir(result_path) if os.path.isfile(os.path.join(result_path, f))]"
   ]
  },
  {
   "cell_type": "code",
   "execution_count": 6,
   "metadata": {},
   "outputs": [],
   "source": [
    "pc_files = [\n",
    "    f for f in os.listdir(pc_path) if os.path.isfile(os.path.join(pc_path, f)) and \"_PC_\" in f\n",
    "]"
   ]
  },
  {
   "cell_type": "code",
   "execution_count": 7,
   "metadata": {},
   "outputs": [],
   "source": [
    "gp_files = [result_file for result_file in result_files if \"GP\" in result_file]"
   ]
  },
  {
   "cell_type": "code",
   "execution_count": 8,
   "metadata": {},
   "outputs": [],
   "source": [
    "pattern = r\"n_(\\d+)_gs_(\\d+)_snr=\\d+_equ_([A-Za-z]+)_(\\d+)\"\n",
    "new_pattern = r\"n_(\\d+)_gs_(\\d+)_snr_\\d+_equ_([A-Za-z]+)_(\\d+)\"\n",
    "short_names = [\n",
    "    \"GRESIT-MURGS\",\n",
    "    \"GRESIT-IND\",\n",
    "    \"GGraN-DAG\",\n",
    "    \"GRandReg\",\n",
    "    \"GPC\",\n",
    "]\n",
    "\n",
    "short_names_no_pc = [\n",
    "    \"GRESIT-MURGS\",\n",
    "    \"GRESIT-IND\",\n",
    "    \"GGraN-DAG\",\n",
    "    \"GRandReg\",\n",
    "]"
   ]
  },
  {
   "cell_type": "code",
   "execution_count": 9,
   "metadata": {},
   "outputs": [],
   "source": [
    "def _reorder_dict(d, order):\n",
    "    new_d = {}\n",
    "    # First, add keys in the specified order if they exist in d.\n",
    "    for key in order:\n",
    "        if key in d:\n",
    "            new_d[key] = d[key]\n",
    "    # Then add any remaining keys from d (in their original order).\n",
    "    for key in d.keys():\n",
    "        if key not in new_d:\n",
    "            new_d[key] = d[key]\n",
    "    return new_d"
   ]
  },
  {
   "cell_type": "code",
   "execution_count": 10,
   "metadata": {},
   "outputs": [],
   "source": [
    "intended_order = [\n",
    "    \"GRESIT-MURGS\",\n",
    "    \"GRESIT-IND\",\n",
    "    \"GPC\",\n",
    "    \"GGraN-DAG\",\n",
    "    \"GRandReg\",\n",
    "]"
   ]
  },
  {
   "cell_type": "code",
   "execution_count": null,
   "metadata": {
    "application/vnd.databricks.v1+cell": {
     "cellMetadata": {
      "byteLimit": 2048000,
      "rowLimit": 10000
     },
     "inputWidgets": {},
     "nuid": "bd7bad19-d100-4b94-8f9a-3133be0c2cf8",
     "showTitle": false,
     "tableResultSettingsMap": {},
     "title": ""
    }
   },
   "outputs": [],
   "source": [
    "plot_dict = {}\n",
    "\n",
    "for result in gp_files:\n",
    "    with open(result_path + result) as f:\n",
    "        results: defaultdict[str, defaultdict[str, list[int | float | None]]] = json.load(f)\n",
    "\n",
    "    pc_result_file = result.replace(\"results\", \"results_PC\", 1)\n",
    "    try:\n",
    "        with open(pc_path + pc_result_file) as pc_f:\n",
    "            pc_results: defaultdict[str, defaultdict[str, list[int | float | None]]] = json.load(\n",
    "                pc_f\n",
    "            )\n",
    "    except FileNotFoundError:\n",
    "        continue\n",
    "    pc_key = [key for key in results.keys() if \"GroupPC\" in key]\n",
    "    if pc_key:\n",
    "        results.pop(pc_key[0])\n",
    "    results[\"GroupPC(alpha=0.2, test=FisherZVec)\"] = pc_results[\n",
    "        \"GroupPC(alpha=0.2, test=FisherZVec)\"\n",
    "    ]\n",
    "\n",
    "    results_with_long_names = results\n",
    "    if len(results_with_long_names) == len(short_names):\n",
    "        with_short_names = {\n",
    "            old_name: short_names[i] for i, old_name in enumerate(results_with_long_names.keys())\n",
    "        }\n",
    "    elif len(results_with_long_names) == len(short_names_no_pc):\n",
    "        with_short_names = {\n",
    "            old_name: short_names_no_pc[i]\n",
    "            for i, old_name in enumerate(results_with_long_names.keys())\n",
    "        }\n",
    "    else:\n",
    "        raise ValueError()\n",
    "\n",
    "    results_renamed = {\n",
    "        with_short_names[key]: value for key, value in results_with_long_names.items()\n",
    "    }\n",
    "    # Apply regex search\n",
    "    match = re.search(pattern, result)\n",
    "    match_new = re.search(new_pattern, result)\n",
    "\n",
    "    if match:\n",
    "        nodes = int(match.group(1))  # Extract number of nodes\n",
    "        group_size = int(match.group(2))  # Extract group size\n",
    "        nonlinearity = match.group(3)  # Extract nonlinearity (e.g., \"GP\")\n",
    "        sample_size = int(match.group(4))  # Extract sample size\n",
    "    elif match_new:\n",
    "        nodes = int(match_new.group(1))  # Extract number of nodes\n",
    "        group_size = int(match_new.group(2))  # Extract group size\n",
    "        nonlinearity = match_new.group(3)  # Extract nonlinearity (e.g., \"GP\")\n",
    "        sample_size = int(match_new.group(4))  # Extract sample size\n",
    "    else:\n",
    "        raise ValueError()\n",
    "\n",
    "    final_dict = _reorder_dict(results_renamed, intended_order)\n",
    "    plot_dict[f\"result_boxplot_{nodes}_{group_size}_{sample_size}\"] = final_dict\n",
    "\n",
    "    draw_result_boxplots(\n",
    "        result_dict=final_dict,\n",
    "        file_path=None,  # Replace with your desired file path\n",
    "        file_name=f\"result_boxplot_{nodes}_{group_size}_{sample_size}\",\n",
    "        title=f\"$p={nodes}$, $d_j={group_size}$, and $n={sample_size}$\",\n",
    "    )"
   ]
  },
  {
   "cell_type": "code",
   "execution_count": null,
   "metadata": {},
   "outputs": [],
   "source": []
  }
 ],
 "metadata": {
  "application/vnd.databricks.v1+notebook": {
   "computePreferences": null,
   "dashboards": [],
   "environmentMetadata": null,
   "language": "python",
   "notebookMetadata": {
    "pythonIndentUnit": 2
   },
   "notebookName": "plot_simulation_results",
   "widgets": {}
  },
  "kernelspec": {
   "display_name": "venv_causal-HU10",
   "language": "python",
   "name": "python3"
  },
  "language_info": {
   "codemirror_mode": {
    "name": "ipython",
    "version": 3
   },
   "file_extension": ".py",
   "mimetype": "text/x-python",
   "name": "python",
   "nbconvert_exporter": "python",
   "pygments_lexer": "ipython3",
   "version": "3.10.12"
  }
 },
 "nbformat": 4,
 "nbformat_minor": 0
}
